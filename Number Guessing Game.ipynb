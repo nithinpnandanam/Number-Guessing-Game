{
 "cells": [
  {
   "cell_type": "code",
   "execution_count": 1,
   "id": "e438db72",
   "metadata": {},
   "outputs": [
    {
     "name": "stdout",
     "output_type": "stream",
     "text": [
      "Type a number : 10\n",
      "Guess a number? 5\n",
      "Try low\n",
      "Guess a number? 4\n",
      "Try low\n",
      "Guess a number? 2\n",
      "Try low\n",
      "Guess a number? 1\n",
      "Yeah! you got the guess correct\n",
      "You have got the answer in 3 attempts\n"
     ]
    }
   ],
   "source": [
    "import random\n",
    "top_of_range=input(\"Type a number : \")\n",
    "if top_of_range.isdigit():\n",
    "    top_of_range = int(top_of_range) \n",
    "    if top_of_range<=0:\n",
    "        print(\"Please type a number larger than 0 next time\")\n",
    "        quit()\n",
    "    elif top_of_range>0:\n",
    "        r=random.randrange(0,top_of_range+1)\n",
    "        count=0\n",
    "        while True:\n",
    "            user_guess=input(\"Guess a number? \")\n",
    "            if user_guess.isdigit():\n",
    "                user_guess = int(user_guess)\n",
    "                if user_guess==r:\n",
    "                    print(\"Yeah! you got the guess correct\")\n",
    "                    print(f\"You have got the answer in {count} attempts\")\n",
    "                    break\n",
    "                else:\n",
    "                    if user_guess>r:\n",
    "                        count=count+1\n",
    "                        print(\"Try low\")\n",
    "                    elif user_guess<r:\n",
    "                        count=count+1\n",
    "                        print(\"Try big\")\n",
    "else:\n",
    "    print(\"Please type a number next time\")\n",
    "    quit()"
   ]
  },
  {
   "cell_type": "code",
   "execution_count": null,
   "id": "e32f2a5b",
   "metadata": {},
   "outputs": [],
   "source": []
  }
 ],
 "metadata": {
  "kernelspec": {
   "display_name": "Python 3",
   "language": "python",
   "name": "python3"
  },
  "language_info": {
   "codemirror_mode": {
    "name": "ipython",
    "version": 3
   },
   "file_extension": ".py",
   "mimetype": "text/x-python",
   "name": "python",
   "nbconvert_exporter": "python",
   "pygments_lexer": "ipython3",
   "version": "3.8.8"
  }
 },
 "nbformat": 4,
 "nbformat_minor": 5
}